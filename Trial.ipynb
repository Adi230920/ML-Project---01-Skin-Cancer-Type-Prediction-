{
  "nbformat": 4,
  "nbformat_minor": 0,
  "metadata": {
    "colab": {
      "provenance": [],
      "authorship_tag": "ABX9TyNRmQX0tomljnOZ5+q3nCT9",
      "include_colab_link": true
    },
    "kernelspec": {
      "name": "python3",
      "display_name": "Python 3"
    },
    "language_info": {
      "name": "python"
    }
  },
  "cells": [
    {
      "cell_type": "markdown",
      "metadata": {
        "id": "view-in-github",
        "colab_type": "text"
      },
      "source": [
        "<a href=\"https://colab.research.google.com/github/Adi230920/ML-Project---01-Skin-Cancer-Type-Prediction-/blob/main/Trial.ipynb\" target=\"_parent\"><img src=\"https://colab.research.google.com/assets/colab-badge.svg\" alt=\"Open In Colab\"/></a>"
      ]
    },
    {
      "cell_type": "code",
      "execution_count": null,
      "metadata": {
        "colab": {
          "base_uri": "https://localhost:8080/"
        },
        "id": "gweKF8WX1Pg4",
        "outputId": "252c8dbb-42ad-4a7e-c214-6e71043b74ae"
      },
      "outputs": [
        {
          "output_type": "stream",
          "name": "stdout",
          "text": [
            "Mounted at /content/drive\n"
          ]
        }
      ],
      "source": [
        "from google.colab import drive\n",
        "drive.mount('/content/drive')"
      ]
    },
    {
      "cell_type": "code",
      "source": [
        "import numpy as np\n",
        "from PIL import Image\n",
        "from tensorflow.keras.models import load_model\n",
        "from sklearn.preprocessing import LabelEncoder\n",
        "import pandas as pd\n",
        "import matplotlib.pyplot as plt"
      ],
      "metadata": {
        "id": "830UW7S41XCt"
      },
      "execution_count": null,
      "outputs": []
    },
    {
      "cell_type": "code",
      "source": [
        "model_path = '/content/drive/MyDrive/SkinCancerProject/skin_cancer_model.h5'\n",
        "model = load_model(model_path)"
      ],
      "metadata": {
        "id": "WuHJz5Xu1XAJ"
      },
      "execution_count": null,
      "outputs": []
    },
    {
      "cell_type": "code",
      "source": [
        "# Load metadata again\n",
        "metadata_path = '/content/drive/MyDrive/SkinCancerProject/HAM10000_metadata.csv'\n",
        "skin_df = pd.read_csv(metadata_path)\n",
        "\n",
        "# Refit the LabelEncoder\n",
        "le = LabelEncoder()\n",
        "le.fit(skin_df['dx'])"
      ],
      "metadata": {
        "id": "-c9gwIVK1W86"
      },
      "execution_count": null,
      "outputs": []
    },
    {
      "cell_type": "code",
      "source": [
        "from google.colab import files\n",
        "uploaded = files.upload()\n",
        "\n",
        "# Get uploaded filename\n",
        "img_path = next(iter(uploaded))\n",
        "\n",
        "# Set image size\n",
        "SIZE = 32\n",
        "\n",
        "# Preprocess\n",
        "img = Image.open(img_path).resize((SIZE, SIZE))\n",
        "img_array = np.array(img) / 255.0\n",
        "img_array = img_array.reshape(1, SIZE, SIZE, 3)\n",
        "\n",
        "# Predict\n",
        "prediction = model.predict(img_array)\n",
        "predicted_label = np.argmax(prediction)\n",
        "class_name = le.inverse_transform([predicted_label])[0]\n",
        "\n",
        "# Output\n",
        "print(\"Predicted skin lesion type:\", class_name)\n",
        "plt.imshow(img)\n",
        "plt.title(f\"Predicted: {class_name}\")\n",
        "plt.axis('off')\n",
        "plt.show()"
      ],
      "metadata": {
        "id": "bMWnbRH91W2w"
      },
      "execution_count": null,
      "outputs": []
    }
  ]
}